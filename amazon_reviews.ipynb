{
  "nbformat": 4,
  "nbformat_minor": 0,
  "metadata": {
    "colab": {
      "provenance": []
    },
    "kernelspec": {
      "name": "python3",
      "display_name": "Python 3"
    },
    "language_info": {
      "name": "python"
    }
  },
  "cells": [
    {
      "cell_type": "code",
      "execution_count": 1,
      "metadata": {
        "id": "dyJLSwb07yWY"
      },
      "outputs": [],
      "source": [
        "import pandas as pd\n",
        "import numpy as np\n",
        "from sklearn.model_selection import train_test_split\n",
        "from sklearn.preprocessing import StandardScaler\n",
        "from tensorflow.keras.models import Model\n",
        "from tensorflow.keras.layers import Input, Embedding, Dense, Flatten, concatenate, Dropout\n",
        "from tensorflow.keras.optimizers import Adam\n",
        "from sklearn.preprocessing import LabelEncoder\n",
        "from keras.callbacks import EarlyStopping\n",
        "import matplotlib.pyplot as plt\n",
        "import json\n"
      ]
    },
    {
      "cell_type": "code",
      "source": [
        "!wget 'https://datarepo.eng.ucsd.edu/mcauley_group/data/amazon_2023/raw/review_categories/All_Beauty.jsonl.gz'"
      ],
      "metadata": {
        "colab": {
          "base_uri": "https://localhost:8080/"
        },
        "id": "1-t5X9xa75vt",
        "outputId": "5196fcb4-642b-4089-c17a-5652ae724828"
      },
      "execution_count": 3,
      "outputs": [
        {
          "output_type": "stream",
          "name": "stdout",
          "text": [
            "--2024-04-23 06:05:30--  https://datarepo.eng.ucsd.edu/mcauley_group/data/amazon_2023/raw/review_categories/All_Beauty.jsonl.gz\n",
            "Resolving datarepo.eng.ucsd.edu (datarepo.eng.ucsd.edu)... 132.239.8.30\n",
            "Connecting to datarepo.eng.ucsd.edu (datarepo.eng.ucsd.edu)|132.239.8.30|:443... connected.\n",
            "HTTP request sent, awaiting response... 200 OK\n",
            "Length: 95357493 (91M) [application/x-gzip]\n",
            "Saving to: ‘All_Beauty.jsonl.gz’\n",
            "\n",
            "All_Beauty.jsonl.gz 100%[===================>]  90.94M  14.7MB/s    in 7.3s    \n",
            "\n",
            "2024-04-23 06:05:38 (12.4 MB/s) - ‘All_Beauty.jsonl.gz’ saved [95357493/95357493]\n",
            "\n"
          ]
        }
      ]
    },
    {
      "cell_type": "code",
      "source": [
        "!gunzip All_Beauty.jsonl.gz"
      ],
      "metadata": {
        "id": "sPljXd7T80Vc"
      },
      "execution_count": 4,
      "outputs": []
    },
    {
      "cell_type": "code",
      "source": [
        "df = pd.read_json('All_Beauty.jsonl',lines=True)"
      ],
      "metadata": {
        "id": "wmL3pLY69GIF"
      },
      "execution_count": 5,
      "outputs": []
    },
    {
      "cell_type": "code",
      "source": [
        "df.head()"
      ],
      "metadata": {
        "colab": {
          "base_uri": "https://localhost:8080/",
          "height": 521
        },
        "id": "nUZV6lH89fm9",
        "outputId": "29c85961-2fc3-4a24-fbde-f7f1d96e76f0"
      },
      "execution_count": 6,
      "outputs": [
        {
          "output_type": "execute_result",
          "data": {
            "text/plain": [
              "   rating                                      title  \\\n",
              "0       5  Such a lovely scent but not overpowering.   \n",
              "1       4     Works great but smells a little weird.   \n",
              "2       5                                       Yes!   \n",
              "3       1                          Synthetic feeling   \n",
              "4       5                                         A+   \n",
              "\n",
              "                                                text images        asin  \\\n",
              "0  This spray is really nice. It smells really go...     []  B00YQ6X8EO   \n",
              "1  This product does what I need it to do, I just...     []  B081TJ8YS3   \n",
              "2                          Smells good, feels great!     []  B07PNNCSP9   \n",
              "3                                     Felt synthetic     []  B09JS339BZ   \n",
              "4                                            Love it     []  B08BZ63GMJ   \n",
              "\n",
              "  parent_asin                       user_id               timestamp  \\\n",
              "0  B00YQ6X8EO  AGKHLEW2SOWHNMFQIJGBECAF7INQ 2020-05-05 14:08:48.923   \n",
              "1  B081TJ8YS3  AGKHLEW2SOWHNMFQIJGBECAF7INQ 2020-05-04 18:10:55.070   \n",
              "2  B097R46CSY  AE74DYR3QUGVPZJ3P7RFWBGIX7XQ 2020-05-16 21:41:06.052   \n",
              "3  B09JS339BZ  AFQLNQNQYFWQZPJQZS6V3NZU4QBQ 2022-01-28 18:13:50.220   \n",
              "4  B08BZ63GMJ  AFQLNQNQYFWQZPJQZS6V3NZU4QBQ 2020-12-30 10:02:43.534   \n",
              "\n",
              "   helpful_vote  verified_purchase  \n",
              "0             0               True  \n",
              "1             1               True  \n",
              "2             2               True  \n",
              "3             0               True  \n",
              "4             0               True  "
            ],
            "text/html": [
              "\n",
              "  <div id=\"df-b38be484-60a9-417b-a6fc-513ded3f9a30\" class=\"colab-df-container\">\n",
              "    <div>\n",
              "<style scoped>\n",
              "    .dataframe tbody tr th:only-of-type {\n",
              "        vertical-align: middle;\n",
              "    }\n",
              "\n",
              "    .dataframe tbody tr th {\n",
              "        vertical-align: top;\n",
              "    }\n",
              "\n",
              "    .dataframe thead th {\n",
              "        text-align: right;\n",
              "    }\n",
              "</style>\n",
              "<table border=\"1\" class=\"dataframe\">\n",
              "  <thead>\n",
              "    <tr style=\"text-align: right;\">\n",
              "      <th></th>\n",
              "      <th>rating</th>\n",
              "      <th>title</th>\n",
              "      <th>text</th>\n",
              "      <th>images</th>\n",
              "      <th>asin</th>\n",
              "      <th>parent_asin</th>\n",
              "      <th>user_id</th>\n",
              "      <th>timestamp</th>\n",
              "      <th>helpful_vote</th>\n",
              "      <th>verified_purchase</th>\n",
              "    </tr>\n",
              "  </thead>\n",
              "  <tbody>\n",
              "    <tr>\n",
              "      <th>0</th>\n",
              "      <td>5</td>\n",
              "      <td>Such a lovely scent but not overpowering.</td>\n",
              "      <td>This spray is really nice. It smells really go...</td>\n",
              "      <td>[]</td>\n",
              "      <td>B00YQ6X8EO</td>\n",
              "      <td>B00YQ6X8EO</td>\n",
              "      <td>AGKHLEW2SOWHNMFQIJGBECAF7INQ</td>\n",
              "      <td>2020-05-05 14:08:48.923</td>\n",
              "      <td>0</td>\n",
              "      <td>True</td>\n",
              "    </tr>\n",
              "    <tr>\n",
              "      <th>1</th>\n",
              "      <td>4</td>\n",
              "      <td>Works great but smells a little weird.</td>\n",
              "      <td>This product does what I need it to do, I just...</td>\n",
              "      <td>[]</td>\n",
              "      <td>B081TJ8YS3</td>\n",
              "      <td>B081TJ8YS3</td>\n",
              "      <td>AGKHLEW2SOWHNMFQIJGBECAF7INQ</td>\n",
              "      <td>2020-05-04 18:10:55.070</td>\n",
              "      <td>1</td>\n",
              "      <td>True</td>\n",
              "    </tr>\n",
              "    <tr>\n",
              "      <th>2</th>\n",
              "      <td>5</td>\n",
              "      <td>Yes!</td>\n",
              "      <td>Smells good, feels great!</td>\n",
              "      <td>[]</td>\n",
              "      <td>B07PNNCSP9</td>\n",
              "      <td>B097R46CSY</td>\n",
              "      <td>AE74DYR3QUGVPZJ3P7RFWBGIX7XQ</td>\n",
              "      <td>2020-05-16 21:41:06.052</td>\n",
              "      <td>2</td>\n",
              "      <td>True</td>\n",
              "    </tr>\n",
              "    <tr>\n",
              "      <th>3</th>\n",
              "      <td>1</td>\n",
              "      <td>Synthetic feeling</td>\n",
              "      <td>Felt synthetic</td>\n",
              "      <td>[]</td>\n",
              "      <td>B09JS339BZ</td>\n",
              "      <td>B09JS339BZ</td>\n",
              "      <td>AFQLNQNQYFWQZPJQZS6V3NZU4QBQ</td>\n",
              "      <td>2022-01-28 18:13:50.220</td>\n",
              "      <td>0</td>\n",
              "      <td>True</td>\n",
              "    </tr>\n",
              "    <tr>\n",
              "      <th>4</th>\n",
              "      <td>5</td>\n",
              "      <td>A+</td>\n",
              "      <td>Love it</td>\n",
              "      <td>[]</td>\n",
              "      <td>B08BZ63GMJ</td>\n",
              "      <td>B08BZ63GMJ</td>\n",
              "      <td>AFQLNQNQYFWQZPJQZS6V3NZU4QBQ</td>\n",
              "      <td>2020-12-30 10:02:43.534</td>\n",
              "      <td>0</td>\n",
              "      <td>True</td>\n",
              "    </tr>\n",
              "  </tbody>\n",
              "</table>\n",
              "</div>\n",
              "    <div class=\"colab-df-buttons\">\n",
              "\n",
              "  <div class=\"colab-df-container\">\n",
              "    <button class=\"colab-df-convert\" onclick=\"convertToInteractive('df-b38be484-60a9-417b-a6fc-513ded3f9a30')\"\n",
              "            title=\"Convert this dataframe to an interactive table.\"\n",
              "            style=\"display:none;\">\n",
              "\n",
              "  <svg xmlns=\"http://www.w3.org/2000/svg\" height=\"24px\" viewBox=\"0 -960 960 960\">\n",
              "    <path d=\"M120-120v-720h720v720H120Zm60-500h600v-160H180v160Zm220 220h160v-160H400v160Zm0 220h160v-160H400v160ZM180-400h160v-160H180v160Zm440 0h160v-160H620v160ZM180-180h160v-160H180v160Zm440 0h160v-160H620v160Z\"/>\n",
              "  </svg>\n",
              "    </button>\n",
              "\n",
              "  <style>\n",
              "    .colab-df-container {\n",
              "      display:flex;\n",
              "      gap: 12px;\n",
              "    }\n",
              "\n",
              "    .colab-df-convert {\n",
              "      background-color: #E8F0FE;\n",
              "      border: none;\n",
              "      border-radius: 50%;\n",
              "      cursor: pointer;\n",
              "      display: none;\n",
              "      fill: #1967D2;\n",
              "      height: 32px;\n",
              "      padding: 0 0 0 0;\n",
              "      width: 32px;\n",
              "    }\n",
              "\n",
              "    .colab-df-convert:hover {\n",
              "      background-color: #E2EBFA;\n",
              "      box-shadow: 0px 1px 2px rgba(60, 64, 67, 0.3), 0px 1px 3px 1px rgba(60, 64, 67, 0.15);\n",
              "      fill: #174EA6;\n",
              "    }\n",
              "\n",
              "    .colab-df-buttons div {\n",
              "      margin-bottom: 4px;\n",
              "    }\n",
              "\n",
              "    [theme=dark] .colab-df-convert {\n",
              "      background-color: #3B4455;\n",
              "      fill: #D2E3FC;\n",
              "    }\n",
              "\n",
              "    [theme=dark] .colab-df-convert:hover {\n",
              "      background-color: #434B5C;\n",
              "      box-shadow: 0px 1px 3px 1px rgba(0, 0, 0, 0.15);\n",
              "      filter: drop-shadow(0px 1px 2px rgba(0, 0, 0, 0.3));\n",
              "      fill: #FFFFFF;\n",
              "    }\n",
              "  </style>\n",
              "\n",
              "    <script>\n",
              "      const buttonEl =\n",
              "        document.querySelector('#df-b38be484-60a9-417b-a6fc-513ded3f9a30 button.colab-df-convert');\n",
              "      buttonEl.style.display =\n",
              "        google.colab.kernel.accessAllowed ? 'block' : 'none';\n",
              "\n",
              "      async function convertToInteractive(key) {\n",
              "        const element = document.querySelector('#df-b38be484-60a9-417b-a6fc-513ded3f9a30');\n",
              "        const dataTable =\n",
              "          await google.colab.kernel.invokeFunction('convertToInteractive',\n",
              "                                                    [key], {});\n",
              "        if (!dataTable) return;\n",
              "\n",
              "        const docLinkHtml = 'Like what you see? Visit the ' +\n",
              "          '<a target=\"_blank\" href=https://colab.research.google.com/notebooks/data_table.ipynb>data table notebook</a>'\n",
              "          + ' to learn more about interactive tables.';\n",
              "        element.innerHTML = '';\n",
              "        dataTable['output_type'] = 'display_data';\n",
              "        await google.colab.output.renderOutput(dataTable, element);\n",
              "        const docLink = document.createElement('div');\n",
              "        docLink.innerHTML = docLinkHtml;\n",
              "        element.appendChild(docLink);\n",
              "      }\n",
              "    </script>\n",
              "  </div>\n",
              "\n",
              "\n",
              "<div id=\"df-556286cf-55ea-418f-9792-bd91be02373e\">\n",
              "  <button class=\"colab-df-quickchart\" onclick=\"quickchart('df-556286cf-55ea-418f-9792-bd91be02373e')\"\n",
              "            title=\"Suggest charts\"\n",
              "            style=\"display:none;\">\n",
              "\n",
              "<svg xmlns=\"http://www.w3.org/2000/svg\" height=\"24px\"viewBox=\"0 0 24 24\"\n",
              "     width=\"24px\">\n",
              "    <g>\n",
              "        <path d=\"M19 3H5c-1.1 0-2 .9-2 2v14c0 1.1.9 2 2 2h14c1.1 0 2-.9 2-2V5c0-1.1-.9-2-2-2zM9 17H7v-7h2v7zm4 0h-2V7h2v10zm4 0h-2v-4h2v4z\"/>\n",
              "    </g>\n",
              "</svg>\n",
              "  </button>\n",
              "\n",
              "<style>\n",
              "  .colab-df-quickchart {\n",
              "      --bg-color: #E8F0FE;\n",
              "      --fill-color: #1967D2;\n",
              "      --hover-bg-color: #E2EBFA;\n",
              "      --hover-fill-color: #174EA6;\n",
              "      --disabled-fill-color: #AAA;\n",
              "      --disabled-bg-color: #DDD;\n",
              "  }\n",
              "\n",
              "  [theme=dark] .colab-df-quickchart {\n",
              "      --bg-color: #3B4455;\n",
              "      --fill-color: #D2E3FC;\n",
              "      --hover-bg-color: #434B5C;\n",
              "      --hover-fill-color: #FFFFFF;\n",
              "      --disabled-bg-color: #3B4455;\n",
              "      --disabled-fill-color: #666;\n",
              "  }\n",
              "\n",
              "  .colab-df-quickchart {\n",
              "    background-color: var(--bg-color);\n",
              "    border: none;\n",
              "    border-radius: 50%;\n",
              "    cursor: pointer;\n",
              "    display: none;\n",
              "    fill: var(--fill-color);\n",
              "    height: 32px;\n",
              "    padding: 0;\n",
              "    width: 32px;\n",
              "  }\n",
              "\n",
              "  .colab-df-quickchart:hover {\n",
              "    background-color: var(--hover-bg-color);\n",
              "    box-shadow: 0 1px 2px rgba(60, 64, 67, 0.3), 0 1px 3px 1px rgba(60, 64, 67, 0.15);\n",
              "    fill: var(--button-hover-fill-color);\n",
              "  }\n",
              "\n",
              "  .colab-df-quickchart-complete:disabled,\n",
              "  .colab-df-quickchart-complete:disabled:hover {\n",
              "    background-color: var(--disabled-bg-color);\n",
              "    fill: var(--disabled-fill-color);\n",
              "    box-shadow: none;\n",
              "  }\n",
              "\n",
              "  .colab-df-spinner {\n",
              "    border: 2px solid var(--fill-color);\n",
              "    border-color: transparent;\n",
              "    border-bottom-color: var(--fill-color);\n",
              "    animation:\n",
              "      spin 1s steps(1) infinite;\n",
              "  }\n",
              "\n",
              "  @keyframes spin {\n",
              "    0% {\n",
              "      border-color: transparent;\n",
              "      border-bottom-color: var(--fill-color);\n",
              "      border-left-color: var(--fill-color);\n",
              "    }\n",
              "    20% {\n",
              "      border-color: transparent;\n",
              "      border-left-color: var(--fill-color);\n",
              "      border-top-color: var(--fill-color);\n",
              "    }\n",
              "    30% {\n",
              "      border-color: transparent;\n",
              "      border-left-color: var(--fill-color);\n",
              "      border-top-color: var(--fill-color);\n",
              "      border-right-color: var(--fill-color);\n",
              "    }\n",
              "    40% {\n",
              "      border-color: transparent;\n",
              "      border-right-color: var(--fill-color);\n",
              "      border-top-color: var(--fill-color);\n",
              "    }\n",
              "    60% {\n",
              "      border-color: transparent;\n",
              "      border-right-color: var(--fill-color);\n",
              "    }\n",
              "    80% {\n",
              "      border-color: transparent;\n",
              "      border-right-color: var(--fill-color);\n",
              "      border-bottom-color: var(--fill-color);\n",
              "    }\n",
              "    90% {\n",
              "      border-color: transparent;\n",
              "      border-bottom-color: var(--fill-color);\n",
              "    }\n",
              "  }\n",
              "</style>\n",
              "\n",
              "  <script>\n",
              "    async function quickchart(key) {\n",
              "      const quickchartButtonEl =\n",
              "        document.querySelector('#' + key + ' button');\n",
              "      quickchartButtonEl.disabled = true;  // To prevent multiple clicks.\n",
              "      quickchartButtonEl.classList.add('colab-df-spinner');\n",
              "      try {\n",
              "        const charts = await google.colab.kernel.invokeFunction(\n",
              "            'suggestCharts', [key], {});\n",
              "      } catch (error) {\n",
              "        console.error('Error during call to suggestCharts:', error);\n",
              "      }\n",
              "      quickchartButtonEl.classList.remove('colab-df-spinner');\n",
              "      quickchartButtonEl.classList.add('colab-df-quickchart-complete');\n",
              "    }\n",
              "    (() => {\n",
              "      let quickchartButtonEl =\n",
              "        document.querySelector('#df-556286cf-55ea-418f-9792-bd91be02373e button');\n",
              "      quickchartButtonEl.style.display =\n",
              "        google.colab.kernel.accessAllowed ? 'block' : 'none';\n",
              "    })();\n",
              "  </script>\n",
              "</div>\n",
              "\n",
              "    </div>\n",
              "  </div>\n"
            ],
            "application/vnd.google.colaboratory.intrinsic+json": {
              "type": "dataframe",
              "variable_name": "df"
            }
          },
          "metadata": {},
          "execution_count": 6
        }
      ]
    },
    {
      "cell_type": "code",
      "source": [
        "df = df.drop(['title','text','images','timestamp'],axis=1)"
      ],
      "metadata": {
        "id": "BAaPeT4K_f2H"
      },
      "execution_count": 6,
      "outputs": []
    },
    {
      "cell_type": "code",
      "source": [],
      "metadata": {
        "id": "zhsuPPPuDpsZ"
      },
      "execution_count": null,
      "outputs": []
    },
    {
      "cell_type": "code",
      "source": [
        "df.info()"
      ],
      "metadata": {
        "colab": {
          "base_uri": "https://localhost:8080/"
        },
        "id": "VO7salzz9jV1",
        "outputId": "24681099-62f1-4ef9-b340-7fc7592e07ee"
      },
      "execution_count": 7,
      "outputs": [
        {
          "output_type": "stream",
          "name": "stdout",
          "text": [
            "<class 'pandas.core.frame.DataFrame'>\n",
            "RangeIndex: 701528 entries, 0 to 701527\n",
            "Data columns (total 6 columns):\n",
            " #   Column             Non-Null Count   Dtype \n",
            "---  ------             --------------   ----- \n",
            " 0   rating             701528 non-null  int64 \n",
            " 1   asin               701528 non-null  object\n",
            " 2   parent_asin        701528 non-null  object\n",
            " 3   user_id            701528 non-null  object\n",
            " 4   helpful_vote       701528 non-null  int64 \n",
            " 5   verified_purchase  701528 non-null  bool  \n",
            "dtypes: bool(1), int64(2), object(3)\n",
            "memory usage: 27.4+ MB\n"
          ]
        }
      ]
    },
    {
      "cell_type": "code",
      "source": [
        "# Load JSON data into DataFrame\n",
        "with open('All_Beauty.jsonl', 'r') as f:\n",
        "    data = json.load(f)\n",
        "\n",
        "df = pd.DataFrame(data)\n"
      ],
      "metadata": {
        "id": "4cm4O15I75xP"
      },
      "execution_count": null,
      "outputs": []
    },
    {
      "cell_type": "code",
      "source": [
        "# Define categorical features and their vocabularies\n",
        "categorical_features = ['user_id', 'asin', 'parent_asin','verified_purchase']\n",
        "categorical_vocab_sizes = [df[cat].nunique() for cat in categorical_features]"
      ],
      "metadata": {
        "id": "SHDdiegrDa2e"
      },
      "execution_count": 8,
      "outputs": []
    },
    {
      "cell_type": "code",
      "source": [
        "print(categorical_vocab_sizes)"
      ],
      "metadata": {
        "colab": {
          "base_uri": "https://localhost:8080/"
        },
        "id": "PGWubZbdDcAE",
        "outputId": "25b2479c-8be6-459a-b6e3-5febbb4bfca9"
      },
      "execution_count": 9,
      "outputs": [
        {
          "output_type": "stream",
          "name": "stdout",
          "text": [
            "[631986, 115709, 112565, 2]\n"
          ]
        }
      ]
    },
    {
      "cell_type": "code",
      "source": [
        "\n",
        "\n",
        "\n",
        "for col in categorical_features:\n",
        "    encoder = LabelEncoder()\n",
        "    df[col] = encoder.fit_transform(df[col])\n",
        "\n",
        "# Define numerical features\n",
        "numerical_features = ['helpful_vote']\n",
        "print(categorical_features, numerical_features)\n",
        "df.info()\n",
        "# Combine all features\n",
        "all_features = categorical_features + numerical_features\n",
        "\n",
        "\n",
        "# Split data into features and target\n",
        "X = df[all_features]\n",
        "y = df['rating']\n",
        "\n",
        "# Split data into training and testing sets\n",
        "X_train, X_test, y_train, y_test = train_test_split(X, y, test_size=0.1, random_state=42)\n",
        "\n",
        "# Standardize numerical features\n",
        "scaler = StandardScaler()\n",
        "X_train[numerical_features] = scaler.fit_transform(X_train[numerical_features])\n",
        "X_test[numerical_features] = scaler.transform(X_test[numerical_features])\n",
        "\n",
        "# Create embedding layers for categorical features\n",
        "embedding_layers = []\n",
        "input_layers = []\n",
        "reduction_factor = 128 * 32\n",
        "for i, cat in enumerate(categorical_features):\n",
        "    input_layer = Input(shape=(1,), name=cat)\n",
        "    embedding_layer = Embedding(input_dim=categorical_vocab_sizes[i] + 1, output_dim=int(categorical_vocab_sizes[i]/reduction_factor)+1)(input_layer)\n",
        "    embedding_layer = Flatten()(embedding_layer)  # Flatten the embeddings\n",
        "    embedding_layers.append(embedding_layer)\n",
        "    input_layers.append(input_layer)\n",
        "\n",
        "for i, num in enumerate(numerical_features):\n",
        "    num_layer = Input(shape=(1,), name=num)\n",
        "    input_layers.append(num_layer)\n",
        "    embedding_layers.append(num_layer)\n",
        "print(input_layers)\n",
        "\n",
        "# Concatenate all input embeddings and numerical features\n",
        "concatenated_inputs = concatenate(embedding_layers )\n",
        "\n"
      ],
      "metadata": {
        "colab": {
          "base_uri": "https://localhost:8080/"
        },
        "id": "McfTo_dI75yp",
        "outputId": "c36ef26d-7022-4578-fa14-f47b72bd519b"
      },
      "execution_count": 10,
      "outputs": [
        {
          "output_type": "stream",
          "name": "stdout",
          "text": [
            "['user_id', 'asin', 'parent_asin', 'verified_purchase'] ['helpful_vote']\n",
            "<class 'pandas.core.frame.DataFrame'>\n",
            "RangeIndex: 701528 entries, 0 to 701527\n",
            "Data columns (total 6 columns):\n",
            " #   Column             Non-Null Count   Dtype\n",
            "---  ------             --------------   -----\n",
            " 0   rating             701528 non-null  int64\n",
            " 1   asin               701528 non-null  int64\n",
            " 2   parent_asin        701528 non-null  int64\n",
            " 3   user_id            701528 non-null  int64\n",
            " 4   helpful_vote       701528 non-null  int64\n",
            " 5   verified_purchase  701528 non-null  int64\n",
            "dtypes: int64(6)\n",
            "memory usage: 32.1 MB\n",
            "[<KerasTensor: shape=(None, 1) dtype=float32 (created by layer 'user_id')>, <KerasTensor: shape=(None, 1) dtype=float32 (created by layer 'asin')>, <KerasTensor: shape=(None, 1) dtype=float32 (created by layer 'parent_asin')>, <KerasTensor: shape=(None, 1) dtype=float32 (created by layer 'verified_purchase')>, <KerasTensor: shape=(None, 1) dtype=float32 (created by layer 'helpful_vote')>]\n"
          ]
        }
      ]
    },
    {
      "cell_type": "code",
      "source": [
        "# Build MLP model\n",
        "dense_layer = Dense(128, activation='relu')(concatenated_inputs)\n",
        "dense_layer = Dropout(0.3)(dense_layer)\n",
        "dense_layer = Dense(128, activation='relu')(dense_layer)\n",
        "dense_layer = Dropout(0.3)(dense_layer)\n",
        "output_layer = Dense(6, activation='softmax')(dense_layer)\n",
        "\n",
        "# Create the model\n",
        "model = Model(inputs=input_layers , outputs=output_layer)\n",
        "model.summary()\n",
        "\n"
      ],
      "metadata": {
        "colab": {
          "base_uri": "https://localhost:8080/"
        },
        "id": "T6YfHVZt750T",
        "outputId": "eba99007-6914-4c4a-805b-fa1f6b3e408e"
      },
      "execution_count": 11,
      "outputs": [
        {
          "output_type": "stream",
          "name": "stdout",
          "text": [
            "Model: \"model\"\n",
            "__________________________________________________________________________________________________\n",
            " Layer (type)                Output Shape                 Param #   Connected to                  \n",
            "==================================================================================================\n",
            " user_id (InputLayer)        [(None, 1)]                  0         []                            \n",
            "                                                                                                  \n",
            " asin (InputLayer)           [(None, 1)]                  0         []                            \n",
            "                                                                                                  \n",
            " parent_asin (InputLayer)    [(None, 1)]                  0         []                            \n",
            "                                                                                                  \n",
            " verified_purchase (InputLa  [(None, 1)]                  0         []                            \n",
            " yer)                                                                                             \n",
            "                                                                                                  \n",
            " embedding (Embedding)       (None, 1, 155)               9795798   ['user_id[0][0]']             \n",
            "                                                          5                                       \n",
            "                                                                                                  \n",
            " embedding_1 (Embedding)     (None, 1, 29)                3355590   ['asin[0][0]']                \n",
            "                                                                                                  \n",
            " embedding_2 (Embedding)     (None, 1, 28)                3151848   ['parent_asin[0][0]']         \n",
            "                                                                                                  \n",
            " embedding_3 (Embedding)     (None, 1, 1)                 3         ['verified_purchase[0][0]']   \n",
            "                                                                                                  \n",
            " flatten (Flatten)           (None, 155)                  0         ['embedding[0][0]']           \n",
            "                                                                                                  \n",
            " flatten_1 (Flatten)         (None, 29)                   0         ['embedding_1[0][0]']         \n",
            "                                                                                                  \n",
            " flatten_2 (Flatten)         (None, 28)                   0         ['embedding_2[0][0]']         \n",
            "                                                                                                  \n",
            " flatten_3 (Flatten)         (None, 1)                    0         ['embedding_3[0][0]']         \n",
            "                                                                                                  \n",
            " helpful_vote (InputLayer)   [(None, 1)]                  0         []                            \n",
            "                                                                                                  \n",
            " concatenate (Concatenate)   (None, 214)                  0         ['flatten[0][0]',             \n",
            "                                                                     'flatten_1[0][0]',           \n",
            "                                                                     'flatten_2[0][0]',           \n",
            "                                                                     'flatten_3[0][0]',           \n",
            "                                                                     'helpful_vote[0][0]']        \n",
            "                                                                                                  \n",
            " dense (Dense)               (None, 128)                  27520     ['concatenate[0][0]']         \n",
            "                                                                                                  \n",
            " dropout (Dropout)           (None, 128)                  0         ['dense[0][0]']               \n",
            "                                                                                                  \n",
            " dense_1 (Dense)             (None, 128)                  16512     ['dropout[0][0]']             \n",
            "                                                                                                  \n",
            " dropout_1 (Dropout)         (None, 128)                  0         ['dense_1[0][0]']             \n",
            "                                                                                                  \n",
            " dense_2 (Dense)             (None, 6)                    774       ['dropout_1[0][0]']           \n",
            "                                                                                                  \n",
            "==================================================================================================\n",
            "Total params: 104510232 (398.67 MB)\n",
            "Trainable params: 104510232 (398.67 MB)\n",
            "Non-trainable params: 0 (0.00 Byte)\n",
            "__________________________________________________________________________________________________\n"
          ]
        }
      ]
    },
    {
      "cell_type": "code",
      "source": [
        "\n",
        "# Compile the model\n",
        "model.compile(optimizer=Adam(learning_rate=0.001), loss='sparse_categorical_crossentropy', metrics=['accuracy'])\n",
        "\n",
        "# Set up early stopping\n",
        "es = EarlyStopping(monitor='val_loss',\n",
        "                   mode='min',\n",
        "                   verbose=1,\n",
        "                   patience=5,\n",
        "                   restore_best_weights=True)\n",
        "\n",
        "# Train the model\n",
        "history = model.fit([X_train[cat].values for cat in categorical_features] + [X_train[num].values for num in numerical_features],\n",
        "          y_train,\n",
        "          validation_data=([X_test[cat].values for cat in categorical_features] + [X_test[num].values for num in numerical_features], y_test),\n",
        "          epochs=100,\n",
        "          batch_size=128,callbacks=[es])"
      ],
      "metadata": {
        "colab": {
          "base_uri": "https://localhost:8080/"
        },
        "id": "nE_VmZ22752A",
        "outputId": "f57b7ea0-e0d7-4c62-8a61-b90c02e9dee3"
      },
      "execution_count": null,
      "outputs": [
        {
          "output_type": "stream",
          "name": "stdout",
          "text": [
            "Epoch 1/100\n",
            "2063/4933 [===========>..................] - ETA: 2:17:30 - loss: 1.1928 - accuracy: 0.6014"
          ]
        }
      ]
    },
    {
      "cell_type": "code",
      "source": [],
      "metadata": {
        "id": "GZIoKjJJErdk"
      },
      "execution_count": null,
      "outputs": []
    },
    {
      "cell_type": "code",
      "source": [],
      "metadata": {
        "id": "aanihcNV753c"
      },
      "execution_count": null,
      "outputs": []
    },
    {
      "cell_type": "code",
      "source": [],
      "metadata": {
        "id": "yO90A-Z7756R"
      },
      "execution_count": null,
      "outputs": []
    }
  ]
}