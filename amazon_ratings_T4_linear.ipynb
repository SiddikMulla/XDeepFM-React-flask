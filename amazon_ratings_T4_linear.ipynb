{
  "cells": [
    {
      "cell_type": "code",
      "execution_count": 51,
      "metadata": {
        "id": "dyJLSwb07yWY"
      },
      "outputs": [],
      "source": [
        "import pandas as pd\n",
        "import numpy as np\n",
        "from sklearn.model_selection import train_test_split\n",
        "from sklearn.preprocessing import StandardScaler\n",
        "import tensorflow as tf\n",
        "from tensorflow.keras.models import Model\n",
        "from tensorflow.keras.layers import Input, Embedding, Dense, Flatten, concatenate, Dropout, Lambda , Layer\n",
        "from tensorflow.keras.optimizers import Adam\n",
        "from sklearn.preprocessing import LabelEncoder\n",
        "from keras.callbacks import EarlyStopping\n",
        "import matplotlib.pyplot as plt\n",
        "import json\n"
      ]
    },
    {
      "cell_type": "code",
      "execution_count": 5,
      "metadata": {
        "colab": {
          "base_uri": "https://localhost:8080/"
        },
        "id": "1-t5X9xa75vt",
        "outputId": "12f4db4f-eee1-417d-83d1-f96e6833057a"
      },
      "outputs": [
        {
          "output_type": "stream",
          "name": "stdout",
          "text": [
            "--2024-04-26 16:42:48--  https://datarepo.eng.ucsd.edu/mcauley_group/data/amazon_2023/raw/review_categories/All_Beauty.jsonl.gz\n",
            "Resolving datarepo.eng.ucsd.edu (datarepo.eng.ucsd.edu)... 132.239.8.30\n",
            "Connecting to datarepo.eng.ucsd.edu (datarepo.eng.ucsd.edu)|132.239.8.30|:443... connected.\n",
            "HTTP request sent, awaiting response... 200 OK\n",
            "Length: 95357493 (91M) [application/x-gzip]\n",
            "Saving to: ‘All_Beauty.jsonl.gz’\n",
            "\n",
            "All_Beauty.jsonl.gz 100%[===================>]  90.94M  1.69MB/s    in 23s     \n",
            "\n",
            "2024-04-26 16:43:11 (3.95 MB/s) - ‘All_Beauty.jsonl.gz’ saved [95357493/95357493]\n",
            "\n"
          ]
        }
      ],
      "source": [
        "!wget 'https://datarepo.eng.ucsd.edu/mcauley_group/data/amazon_2023/raw/review_categories/All_Beauty.jsonl.gz'"
      ]
    },
    {
      "cell_type": "code",
      "source": [
        "!wget 'https://datarepo.eng.ucsd.edu/mcauley_group/data/amazon_2023/raw/meta_categories/meta_All_Beauty.jsonl.gz'"
      ],
      "metadata": {
        "colab": {
          "base_uri": "https://localhost:8080/"
        },
        "id": "yeedn3H51ry9",
        "outputId": "24f5611d-4a03-4786-cc76-7ae34196aff2"
      },
      "execution_count": 6,
      "outputs": [
        {
          "output_type": "stream",
          "name": "stdout",
          "text": [
            "--2024-04-26 16:43:11--  https://datarepo.eng.ucsd.edu/mcauley_group/data/amazon_2023/raw/meta_categories/meta_All_Beauty.jsonl.gz\n",
            "Resolving datarepo.eng.ucsd.edu (datarepo.eng.ucsd.edu)... 132.239.8.30\n",
            "Connecting to datarepo.eng.ucsd.edu (datarepo.eng.ucsd.edu)|132.239.8.30|:443... connected.\n",
            "HTTP request sent, awaiting response... 200 OK\n",
            "Length: 40415458 (39M) [application/x-gzip]\n",
            "Saving to: ‘meta_All_Beauty.jsonl.gz’\n",
            "\n",
            "meta_All_Beauty.jso 100%[===================>]  38.54M  37.8MB/s    in 1.0s    \n",
            "\n",
            "2024-04-26 16:43:12 (37.8 MB/s) - ‘meta_All_Beauty.jsonl.gz’ saved [40415458/40415458]\n",
            "\n"
          ]
        }
      ]
    },
    {
      "cell_type": "code",
      "execution_count": 7,
      "metadata": {
        "id": "sPljXd7T80Vc"
      },
      "outputs": [],
      "source": [
        "!gunzip All_Beauty.jsonl.gz"
      ]
    },
    {
      "cell_type": "code",
      "source": [
        "!gunzip meta_All_Beauty.jsonl.gz"
      ],
      "metadata": {
        "id": "cinkJ2a51xo2"
      },
      "execution_count": 8,
      "outputs": []
    },
    {
      "cell_type": "code",
      "execution_count": 9,
      "metadata": {
        "id": "wmL3pLY69GIF"
      },
      "outputs": [],
      "source": [
        "df_ratings = pd.read_json('All_Beauty.jsonl',lines=True)"
      ]
    },
    {
      "cell_type": "code",
      "source": [
        "df_ratings.info()"
      ],
      "metadata": {
        "id": "P65MGxz96Mln",
        "outputId": "34f36b17-e403-4fba-9f90-62bc20636c1a",
        "colab": {
          "base_uri": "https://localhost:8080/"
        }
      },
      "execution_count": 10,
      "outputs": [
        {
          "output_type": "stream",
          "name": "stdout",
          "text": [
            "<class 'pandas.core.frame.DataFrame'>\n",
            "RangeIndex: 701528 entries, 0 to 701527\n",
            "Data columns (total 10 columns):\n",
            " #   Column             Non-Null Count   Dtype         \n",
            "---  ------             --------------   -----         \n",
            " 0   rating             701528 non-null  int64         \n",
            " 1   title              701528 non-null  object        \n",
            " 2   text               701528 non-null  object        \n",
            " 3   images             701528 non-null  object        \n",
            " 4   asin               701528 non-null  object        \n",
            " 5   parent_asin        701528 non-null  object        \n",
            " 6   user_id            701528 non-null  object        \n",
            " 7   timestamp          701528 non-null  datetime64[ns]\n",
            " 8   helpful_vote       701528 non-null  int64         \n",
            " 9   verified_purchase  701528 non-null  bool          \n",
            "dtypes: bool(1), datetime64[ns](1), int64(2), object(6)\n",
            "memory usage: 48.8+ MB\n"
          ]
        }
      ]
    },
    {
      "cell_type": "code",
      "source": [
        "df_meta = pd.read_json('meta_All_Beauty.jsonl',lines = True)"
      ],
      "metadata": {
        "id": "kXhvjS2J13vj"
      },
      "execution_count": 11,
      "outputs": []
    },
    {
      "cell_type": "code",
      "source": [
        "df_meta.info()"
      ],
      "metadata": {
        "id": "n3BEekMi672f",
        "outputId": "ace2aa27-c4f6-4e48-cdf7-2546e8872fa0",
        "colab": {
          "base_uri": "https://localhost:8080/"
        }
      },
      "execution_count": 12,
      "outputs": [
        {
          "output_type": "stream",
          "name": "stdout",
          "text": [
            "<class 'pandas.core.frame.DataFrame'>\n",
            "RangeIndex: 112590 entries, 0 to 112589\n",
            "Data columns (total 14 columns):\n",
            " #   Column           Non-Null Count   Dtype  \n",
            "---  ------           --------------   -----  \n",
            " 0   main_category    112590 non-null  object \n",
            " 1   title            112590 non-null  object \n",
            " 2   average_rating   112590 non-null  float64\n",
            " 3   rating_number    112590 non-null  int64  \n",
            " 4   features         112590 non-null  object \n",
            " 5   description      112590 non-null  object \n",
            " 6   price            17704 non-null   float64\n",
            " 7   images           112590 non-null  object \n",
            " 8   videos           112590 non-null  object \n",
            " 9   store            101259 non-null  object \n",
            " 10  categories       112590 non-null  object \n",
            " 11  details          112590 non-null  object \n",
            " 12  parent_asin      112590 non-null  object \n",
            " 13  bought_together  0 non-null       float64\n",
            "dtypes: float64(3), int64(1), object(10)\n",
            "memory usage: 12.0+ MB\n"
          ]
        }
      ]
    },
    {
      "cell_type": "code",
      "source": [
        "# prompt: print first 5 values from df_meta details column\n",
        "\n",
        "print(df_meta['details'].head(10))\n"
      ],
      "metadata": {
        "id": "BmKxalV585a3",
        "outputId": "a3e278c4-0760-4fd2-a737-10d09469e42e",
        "colab": {
          "base_uri": "https://localhost:8080/"
        }
      },
      "execution_count": 13,
      "outputs": [
        {
          "output_type": "stream",
          "name": "stdout",
          "text": [
            "0    {'Package Dimensions': '7.1 x 5.5 x 3 inches; ...\n",
            "1    {'Item Form': 'Powder', 'Skin Type': 'Acne Pro...\n",
            "2           {'Manufacturer': 'Levine Health Products'}\n",
            "3    {'Brand': 'Cherioll', 'Item Form': 'Powder', '...\n",
            "4                              {'UPC': '644287689178'}\n",
            "5    {'Color': 'As Shown', 'Size': 'Large', 'Materi...\n",
            "6    {'Brand': 'Edoneery', 'Material': 'Silk', 'Num...\n",
            "7    {'Package Dimensions': '14.49 x 11.26 x 2.36 i...\n",
            "8    {'Brand': 'Balmain', 'Item Form': 'Spray', 'It...\n",
            "9    {'Package Dimensions': '12.49 x 9.97 x 1.46 in...\n",
            "Name: details, dtype: object\n"
          ]
        }
      ]
    },
    {
      "cell_type": "code",
      "source": [
        "# prompt: merge df_ratings and df_meta on parent_asin\n",
        "\n",
        "df_merged = pd.merge(df_ratings, df_meta, on='parent_asin')\n"
      ],
      "metadata": {
        "id": "G7qE8Y0P2BkG"
      },
      "execution_count": 14,
      "outputs": []
    },
    {
      "cell_type": "code",
      "source": [
        "df_merged.info()"
      ],
      "metadata": {
        "id": "10En7nrT_SoR",
        "outputId": "15681a77-7565-40f7-8867-002432369ebe",
        "colab": {
          "base_uri": "https://localhost:8080/"
        }
      },
      "execution_count": 15,
      "outputs": [
        {
          "output_type": "stream",
          "name": "stdout",
          "text": [
            "<class 'pandas.core.frame.DataFrame'>\n",
            "RangeIndex: 701528 entries, 0 to 701527\n",
            "Data columns (total 23 columns):\n",
            " #   Column             Non-Null Count   Dtype         \n",
            "---  ------             --------------   -----         \n",
            " 0   rating             701528 non-null  int64         \n",
            " 1   title_x            701528 non-null  object        \n",
            " 2   text               701528 non-null  object        \n",
            " 3   images_x           701528 non-null  object        \n",
            " 4   asin               701528 non-null  object        \n",
            " 5   parent_asin        701528 non-null  object        \n",
            " 6   user_id            701528 non-null  object        \n",
            " 7   timestamp          701528 non-null  datetime64[ns]\n",
            " 8   helpful_vote       701528 non-null  int64         \n",
            " 9   verified_purchase  701528 non-null  bool          \n",
            " 10  main_category      701528 non-null  object        \n",
            " 11  title_y            701528 non-null  object        \n",
            " 12  average_rating     701528 non-null  float64       \n",
            " 13  rating_number      701528 non-null  int64         \n",
            " 14  features           701528 non-null  object        \n",
            " 15  description        701528 non-null  object        \n",
            " 16  price              185623 non-null  float64       \n",
            " 17  images_y           701528 non-null  object        \n",
            " 18  videos             701528 non-null  object        \n",
            " 19  store              651636 non-null  object        \n",
            " 20  categories         701528 non-null  object        \n",
            " 21  details            701528 non-null  object        \n",
            " 22  bought_together    0 non-null       float64       \n",
            "dtypes: bool(1), datetime64[ns](1), float64(3), int64(3), object(15)\n",
            "memory usage: 118.4+ MB\n"
          ]
        }
      ]
    },
    {
      "cell_type": "code",
      "source": [
        "# prompt: only keep user_id , parent_asin, average_rating, rating_number, price, store, rating columns of df_merged\n",
        "\n",
        "df = df_merged[['user_id', 'parent_asin', 'average_rating', 'rating_number', 'price', 'store', 'rating']]\n"
      ],
      "metadata": {
        "id": "-bQJRiqJ_XDE"
      },
      "execution_count": 16,
      "outputs": []
    },
    {
      "cell_type": "code",
      "execution_count": 17,
      "metadata": {
        "colab": {
          "base_uri": "https://localhost:8080/",
          "height": 206
        },
        "id": "nUZV6lH89fm9",
        "outputId": "d232b0de-dcb6-44ba-e8d2-e72695eaca47"
      },
      "outputs": [
        {
          "output_type": "execute_result",
          "data": {
            "text/plain": [
              "                        user_id parent_asin  average_rating  rating_number  \\\n",
              "0  AGKHLEW2SOWHNMFQIJGBECAF7INQ  B00YQ6X8EO             4.3            384   \n",
              "1  AGF2RF5HBCXKEOLTF2LXZTVFYFVQ  B00YQ6X8EO             4.3            384   \n",
              "2  AGPWM36OKQCL3PM4MXZNLP4VVJKA  B00YQ6X8EO             4.3            384   \n",
              "3  AGVVMZD2DJQ7Z3KJJXHFKQHSX7HA  B00YQ6X8EO             4.3            384   \n",
              "4  AE5VLXANR3ZCUZCQAOBJTIEGMZGA  B00YQ6X8EO             4.3            384   \n",
              "\n",
              "   price      store  rating  \n",
              "0    NaN  HERBIVORE       5  \n",
              "1    NaN  HERBIVORE       1  \n",
              "2    NaN  HERBIVORE       5  \n",
              "3    NaN  HERBIVORE       5  \n",
              "4    NaN  HERBIVORE       2  "
            ],
            "text/html": [
              "\n",
              "  <div id=\"df-1cbe86ff-aa51-41b5-960d-c02f3c7e1027\" class=\"colab-df-container\">\n",
              "    <div>\n",
              "<style scoped>\n",
              "    .dataframe tbody tr th:only-of-type {\n",
              "        vertical-align: middle;\n",
              "    }\n",
              "\n",
              "    .dataframe tbody tr th {\n",
              "        vertical-align: top;\n",
              "    }\n",
              "\n",
              "    .dataframe thead th {\n",
              "        text-align: right;\n",
              "    }\n",
              "</style>\n",
              "<table border=\"1\" class=\"dataframe\">\n",
              "  <thead>\n",
              "    <tr style=\"text-align: right;\">\n",
              "      <th></th>\n",
              "      <th>user_id</th>\n",
              "      <th>parent_asin</th>\n",
              "      <th>average_rating</th>\n",
              "      <th>rating_number</th>\n",
              "      <th>price</th>\n",
              "      <th>store</th>\n",
              "      <th>rating</th>\n",
              "    </tr>\n",
              "  </thead>\n",
              "  <tbody>\n",
              "    <tr>\n",
              "      <th>0</th>\n",
              "      <td>AGKHLEW2SOWHNMFQIJGBECAF7INQ</td>\n",
              "      <td>B00YQ6X8EO</td>\n",
              "      <td>4.3</td>\n",
              "      <td>384</td>\n",
              "      <td>NaN</td>\n",
              "      <td>HERBIVORE</td>\n",
              "      <td>5</td>\n",
              "    </tr>\n",
              "    <tr>\n",
              "      <th>1</th>\n",
              "      <td>AGF2RF5HBCXKEOLTF2LXZTVFYFVQ</td>\n",
              "      <td>B00YQ6X8EO</td>\n",
              "      <td>4.3</td>\n",
              "      <td>384</td>\n",
              "      <td>NaN</td>\n",
              "      <td>HERBIVORE</td>\n",
              "      <td>1</td>\n",
              "    </tr>\n",
              "    <tr>\n",
              "      <th>2</th>\n",
              "      <td>AGPWM36OKQCL3PM4MXZNLP4VVJKA</td>\n",
              "      <td>B00YQ6X8EO</td>\n",
              "      <td>4.3</td>\n",
              "      <td>384</td>\n",
              "      <td>NaN</td>\n",
              "      <td>HERBIVORE</td>\n",
              "      <td>5</td>\n",
              "    </tr>\n",
              "    <tr>\n",
              "      <th>3</th>\n",
              "      <td>AGVVMZD2DJQ7Z3KJJXHFKQHSX7HA</td>\n",
              "      <td>B00YQ6X8EO</td>\n",
              "      <td>4.3</td>\n",
              "      <td>384</td>\n",
              "      <td>NaN</td>\n",
              "      <td>HERBIVORE</td>\n",
              "      <td>5</td>\n",
              "    </tr>\n",
              "    <tr>\n",
              "      <th>4</th>\n",
              "      <td>AE5VLXANR3ZCUZCQAOBJTIEGMZGA</td>\n",
              "      <td>B00YQ6X8EO</td>\n",
              "      <td>4.3</td>\n",
              "      <td>384</td>\n",
              "      <td>NaN</td>\n",
              "      <td>HERBIVORE</td>\n",
              "      <td>2</td>\n",
              "    </tr>\n",
              "  </tbody>\n",
              "</table>\n",
              "</div>\n",
              "    <div class=\"colab-df-buttons\">\n",
              "\n",
              "  <div class=\"colab-df-container\">\n",
              "    <button class=\"colab-df-convert\" onclick=\"convertToInteractive('df-1cbe86ff-aa51-41b5-960d-c02f3c7e1027')\"\n",
              "            title=\"Convert this dataframe to an interactive table.\"\n",
              "            style=\"display:none;\">\n",
              "\n",
              "  <svg xmlns=\"http://www.w3.org/2000/svg\" height=\"24px\" viewBox=\"0 -960 960 960\">\n",
              "    <path d=\"M120-120v-720h720v720H120Zm60-500h600v-160H180v160Zm220 220h160v-160H400v160Zm0 220h160v-160H400v160ZM180-400h160v-160H180v160Zm440 0h160v-160H620v160ZM180-180h160v-160H180v160Zm440 0h160v-160H620v160Z\"/>\n",
              "  </svg>\n",
              "    </button>\n",
              "\n",
              "  <style>\n",
              "    .colab-df-container {\n",
              "      display:flex;\n",
              "      gap: 12px;\n",
              "    }\n",
              "\n",
              "    .colab-df-convert {\n",
              "      background-color: #E8F0FE;\n",
              "      border: none;\n",
              "      border-radius: 50%;\n",
              "      cursor: pointer;\n",
              "      display: none;\n",
              "      fill: #1967D2;\n",
              "      height: 32px;\n",
              "      padding: 0 0 0 0;\n",
              "      width: 32px;\n",
              "    }\n",
              "\n",
              "    .colab-df-convert:hover {\n",
              "      background-color: #E2EBFA;\n",
              "      box-shadow: 0px 1px 2px rgba(60, 64, 67, 0.3), 0px 1px 3px 1px rgba(60, 64, 67, 0.15);\n",
              "      fill: #174EA6;\n",
              "    }\n",
              "\n",
              "    .colab-df-buttons div {\n",
              "      margin-bottom: 4px;\n",
              "    }\n",
              "\n",
              "    [theme=dark] .colab-df-convert {\n",
              "      background-color: #3B4455;\n",
              "      fill: #D2E3FC;\n",
              "    }\n",
              "\n",
              "    [theme=dark] .colab-df-convert:hover {\n",
              "      background-color: #434B5C;\n",
              "      box-shadow: 0px 1px 3px 1px rgba(0, 0, 0, 0.15);\n",
              "      filter: drop-shadow(0px 1px 2px rgba(0, 0, 0, 0.3));\n",
              "      fill: #FFFFFF;\n",
              "    }\n",
              "  </style>\n",
              "\n",
              "    <script>\n",
              "      const buttonEl =\n",
              "        document.querySelector('#df-1cbe86ff-aa51-41b5-960d-c02f3c7e1027 button.colab-df-convert');\n",
              "      buttonEl.style.display =\n",
              "        google.colab.kernel.accessAllowed ? 'block' : 'none';\n",
              "\n",
              "      async function convertToInteractive(key) {\n",
              "        const element = document.querySelector('#df-1cbe86ff-aa51-41b5-960d-c02f3c7e1027');\n",
              "        const dataTable =\n",
              "          await google.colab.kernel.invokeFunction('convertToInteractive',\n",
              "                                                    [key], {});\n",
              "        if (!dataTable) return;\n",
              "\n",
              "        const docLinkHtml = 'Like what you see? Visit the ' +\n",
              "          '<a target=\"_blank\" href=https://colab.research.google.com/notebooks/data_table.ipynb>data table notebook</a>'\n",
              "          + ' to learn more about interactive tables.';\n",
              "        element.innerHTML = '';\n",
              "        dataTable['output_type'] = 'display_data';\n",
              "        await google.colab.output.renderOutput(dataTable, element);\n",
              "        const docLink = document.createElement('div');\n",
              "        docLink.innerHTML = docLinkHtml;\n",
              "        element.appendChild(docLink);\n",
              "      }\n",
              "    </script>\n",
              "  </div>\n",
              "\n",
              "\n",
              "<div id=\"df-2474cb28-c9a9-428a-aafa-826556f44d37\">\n",
              "  <button class=\"colab-df-quickchart\" onclick=\"quickchart('df-2474cb28-c9a9-428a-aafa-826556f44d37')\"\n",
              "            title=\"Suggest charts\"\n",
              "            style=\"display:none;\">\n",
              "\n",
              "<svg xmlns=\"http://www.w3.org/2000/svg\" height=\"24px\"viewBox=\"0 0 24 24\"\n",
              "     width=\"24px\">\n",
              "    <g>\n",
              "        <path d=\"M19 3H5c-1.1 0-2 .9-2 2v14c0 1.1.9 2 2 2h14c1.1 0 2-.9 2-2V5c0-1.1-.9-2-2-2zM9 17H7v-7h2v7zm4 0h-2V7h2v10zm4 0h-2v-4h2v4z\"/>\n",
              "    </g>\n",
              "</svg>\n",
              "  </button>\n",
              "\n",
              "<style>\n",
              "  .colab-df-quickchart {\n",
              "      --bg-color: #E8F0FE;\n",
              "      --fill-color: #1967D2;\n",
              "      --hover-bg-color: #E2EBFA;\n",
              "      --hover-fill-color: #174EA6;\n",
              "      --disabled-fill-color: #AAA;\n",
              "      --disabled-bg-color: #DDD;\n",
              "  }\n",
              "\n",
              "  [theme=dark] .colab-df-quickchart {\n",
              "      --bg-color: #3B4455;\n",
              "      --fill-color: #D2E3FC;\n",
              "      --hover-bg-color: #434B5C;\n",
              "      --hover-fill-color: #FFFFFF;\n",
              "      --disabled-bg-color: #3B4455;\n",
              "      --disabled-fill-color: #666;\n",
              "  }\n",
              "\n",
              "  .colab-df-quickchart {\n",
              "    background-color: var(--bg-color);\n",
              "    border: none;\n",
              "    border-radius: 50%;\n",
              "    cursor: pointer;\n",
              "    display: none;\n",
              "    fill: var(--fill-color);\n",
              "    height: 32px;\n",
              "    padding: 0;\n",
              "    width: 32px;\n",
              "  }\n",
              "\n",
              "  .colab-df-quickchart:hover {\n",
              "    background-color: var(--hover-bg-color);\n",
              "    box-shadow: 0 1px 2px rgba(60, 64, 67, 0.3), 0 1px 3px 1px rgba(60, 64, 67, 0.15);\n",
              "    fill: var(--button-hover-fill-color);\n",
              "  }\n",
              "\n",
              "  .colab-df-quickchart-complete:disabled,\n",
              "  .colab-df-quickchart-complete:disabled:hover {\n",
              "    background-color: var(--disabled-bg-color);\n",
              "    fill: var(--disabled-fill-color);\n",
              "    box-shadow: none;\n",
              "  }\n",
              "\n",
              "  .colab-df-spinner {\n",
              "    border: 2px solid var(--fill-color);\n",
              "    border-color: transparent;\n",
              "    border-bottom-color: var(--fill-color);\n",
              "    animation:\n",
              "      spin 1s steps(1) infinite;\n",
              "  }\n",
              "\n",
              "  @keyframes spin {\n",
              "    0% {\n",
              "      border-color: transparent;\n",
              "      border-bottom-color: var(--fill-color);\n",
              "      border-left-color: var(--fill-color);\n",
              "    }\n",
              "    20% {\n",
              "      border-color: transparent;\n",
              "      border-left-color: var(--fill-color);\n",
              "      border-top-color: var(--fill-color);\n",
              "    }\n",
              "    30% {\n",
              "      border-color: transparent;\n",
              "      border-left-color: var(--fill-color);\n",
              "      border-top-color: var(--fill-color);\n",
              "      border-right-color: var(--fill-color);\n",
              "    }\n",
              "    40% {\n",
              "      border-color: transparent;\n",
              "      border-right-color: var(--fill-color);\n",
              "      border-top-color: var(--fill-color);\n",
              "    }\n",
              "    60% {\n",
              "      border-color: transparent;\n",
              "      border-right-color: var(--fill-color);\n",
              "    }\n",
              "    80% {\n",
              "      border-color: transparent;\n",
              "      border-right-color: var(--fill-color);\n",
              "      border-bottom-color: var(--fill-color);\n",
              "    }\n",
              "    90% {\n",
              "      border-color: transparent;\n",
              "      border-bottom-color: var(--fill-color);\n",
              "    }\n",
              "  }\n",
              "</style>\n",
              "\n",
              "  <script>\n",
              "    async function quickchart(key) {\n",
              "      const quickchartButtonEl =\n",
              "        document.querySelector('#' + key + ' button');\n",
              "      quickchartButtonEl.disabled = true;  // To prevent multiple clicks.\n",
              "      quickchartButtonEl.classList.add('colab-df-spinner');\n",
              "      try {\n",
              "        const charts = await google.colab.kernel.invokeFunction(\n",
              "            'suggestCharts', [key], {});\n",
              "      } catch (error) {\n",
              "        console.error('Error during call to suggestCharts:', error);\n",
              "      }\n",
              "      quickchartButtonEl.classList.remove('colab-df-spinner');\n",
              "      quickchartButtonEl.classList.add('colab-df-quickchart-complete');\n",
              "    }\n",
              "    (() => {\n",
              "      let quickchartButtonEl =\n",
              "        document.querySelector('#df-2474cb28-c9a9-428a-aafa-826556f44d37 button');\n",
              "      quickchartButtonEl.style.display =\n",
              "        google.colab.kernel.accessAllowed ? 'block' : 'none';\n",
              "    })();\n",
              "  </script>\n",
              "</div>\n",
              "\n",
              "    </div>\n",
              "  </div>\n"
            ],
            "application/vnd.google.colaboratory.intrinsic+json": {
              "type": "dataframe",
              "variable_name": "df"
            }
          },
          "metadata": {},
          "execution_count": 17
        }
      ],
      "source": [
        "df.head()"
      ]
    },
    {
      "cell_type": "code",
      "source": [
        "df.info()"
      ],
      "metadata": {
        "id": "ie7Cw2PR4TSK",
        "outputId": "f5c47790-5829-45e9-a840-90d6d3857acf",
        "colab": {
          "base_uri": "https://localhost:8080/"
        }
      },
      "execution_count": 18,
      "outputs": [
        {
          "output_type": "stream",
          "name": "stdout",
          "text": [
            "<class 'pandas.core.frame.DataFrame'>\n",
            "RangeIndex: 701528 entries, 0 to 701527\n",
            "Data columns (total 7 columns):\n",
            " #   Column          Non-Null Count   Dtype  \n",
            "---  ------          --------------   -----  \n",
            " 0   user_id         701528 non-null  object \n",
            " 1   parent_asin     701528 non-null  object \n",
            " 2   average_rating  701528 non-null  float64\n",
            " 3   rating_number   701528 non-null  int64  \n",
            " 4   price           185623 non-null  float64\n",
            " 5   store           651636 non-null  object \n",
            " 6   rating          701528 non-null  int64  \n",
            "dtypes: float64(2), int64(2), object(3)\n",
            "memory usage: 37.5+ MB\n"
          ]
        }
      ]
    },
    {
      "cell_type": "code",
      "execution_count": 19,
      "metadata": {
        "id": "SHDdiegrDa2e"
      },
      "outputs": [],
      "source": [
        "# Define categorical features and their vocabularies\n",
        "categorical_features = ['user_id', 'parent_asin']\n",
        "categorical_vocab_sizes = [df[cat].nunique() for cat in categorical_features]"
      ]
    },
    {
      "cell_type": "code",
      "execution_count": 20,
      "metadata": {
        "colab": {
          "base_uri": "https://localhost:8080/"
        },
        "id": "PGWubZbdDcAE",
        "outputId": "4a11f624-838f-48ba-8498-ff8866d736af"
      },
      "outputs": [
        {
          "output_type": "stream",
          "name": "stdout",
          "text": [
            "[631986, 112565]\n"
          ]
        }
      ],
      "source": [
        "print(categorical_vocab_sizes)"
      ]
    },
    {
      "cell_type": "code",
      "execution_count": 37,
      "metadata": {
        "colab": {
          "base_uri": "https://localhost:8080/"
        },
        "id": "McfTo_dI75yp",
        "outputId": "b887ed7f-e7f5-4a03-db44-659b42b51595"
      },
      "outputs": [
        {
          "output_type": "stream",
          "name": "stdout",
          "text": [
            "['user_id', 'parent_asin'] ['average_rating', 'rating_number', 'price']\n",
            "<class 'pandas.core.frame.DataFrame'>\n",
            "RangeIndex: 701528 entries, 0 to 701527\n",
            "Data columns (total 7 columns):\n",
            " #   Column          Non-Null Count   Dtype  \n",
            "---  ------          --------------   -----  \n",
            " 0   user_id         701528 non-null  int64  \n",
            " 1   parent_asin     701528 non-null  int64  \n",
            " 2   average_rating  701528 non-null  float64\n",
            " 3   rating_number   701528 non-null  int64  \n",
            " 4   price           185623 non-null  float64\n",
            " 5   store           651636 non-null  object \n",
            " 6   rating          701528 non-null  int64  \n",
            "dtypes: float64(2), int64(4), object(1)\n",
            "memory usage: 37.5+ MB\n"
          ]
        },
        {
          "output_type": "stream",
          "name": "stderr",
          "text": [
            "<ipython-input-37-a0cac76a9d97>:3: SettingWithCopyWarning: \n",
            "A value is trying to be set on a copy of a slice from a DataFrame.\n",
            "Try using .loc[row_indexer,col_indexer] = value instead\n",
            "\n",
            "See the caveats in the documentation: https://pandas.pydata.org/pandas-docs/stable/user_guide/indexing.html#returning-a-view-versus-a-copy\n",
            "  df[col] = encoder.fit_transform(df[col])\n",
            "<ipython-input-37-a0cac76a9d97>:3: SettingWithCopyWarning: \n",
            "A value is trying to be set on a copy of a slice from a DataFrame.\n",
            "Try using .loc[row_indexer,col_indexer] = value instead\n",
            "\n",
            "See the caveats in the documentation: https://pandas.pydata.org/pandas-docs/stable/user_guide/indexing.html#returning-a-view-versus-a-copy\n",
            "  df[col] = encoder.fit_transform(df[col])\n"
          ]
        }
      ],
      "source": [
        "\n",
        "\n",
        "\n",
        "for col in categorical_features:\n",
        "    encoder = LabelEncoder()\n",
        "    df[col] = encoder.fit_transform(df[col])\n",
        "\n",
        "# Define numerical features\n",
        "numerical_features = ['average_rating','rating_number','price']\n",
        "print(categorical_features, numerical_features)\n",
        "df.info()\n",
        "# Combine all features\n",
        "all_features = categorical_features\n",
        "\n",
        "\n",
        "# Split data into features and target\n",
        "X = df[all_features]\n",
        "y = df['rating']\n",
        "\n",
        "# Split data into training and testing sets\n",
        "X_train, X_test, y_train, y_test = train_test_split(X, y, test_size=0.1, random_state=42)\n",
        "\n",
        "# Standardize numerical features\n",
        "# scaler = StandardScaler()\n",
        "# X_train[numerical_features] = scaler.fit_transform(X_train[numerical_features])\n",
        "# X_test[numerical_features] = scaler.transform(X_test[numerical_features])\n",
        "\n",
        "# X_train[numerical_features] = X_train[numerical_features]\n",
        "# X_test[numerical_features] = X_test[numerical_features]\n",
        "\n",
        "\n",
        "# Create embedding layers for categorical features\n",
        "embedding_layers = []\n",
        "input_layers = []\n",
        "reduction_factor = 128 * 16\n",
        "for i, cat in enumerate(categorical_features):\n",
        "    input_layer = Input(shape=(1,), name=cat)\n",
        "    embedding_layer = Embedding(input_dim=categorical_vocab_sizes[i] + 1, output_dim=int(categorical_vocab_sizes[i]/reduction_factor)+1)(input_layer)\n",
        "    embedding_layer = Flatten()(embedding_layer)  # Flatten the embeddings\n",
        "    embedding_layers.append(embedding_layer)\n",
        "    input_layers.append(input_layer)\n",
        "\n",
        "# for i, num in enumerate(numerical_features):\n",
        "#     num_layer = Input(shape=(1,), name=num)\n",
        "#     input_layers.append(num_layer)\n",
        "#     embedding_layers.append(num_layer)\n",
        "# print(input_layers)\n",
        "\n",
        "# Concatenate all input embeddings and numerical features\n",
        "concatenated_inputs = concatenate(embedding_layers )\n",
        "\n"
      ]
    },
    {
      "cell_type": "code",
      "source": [
        "# Custom layer for ceil operation\n",
        "class CeilLayer(Layer):\n",
        "    def __init__(self, **kwargs):\n",
        "        super(CeilLayer, self).__init__(**kwargs)\n",
        "\n",
        "    def call(self, inputs):\n",
        "        return tf.math.ceil(inputs)"
      ],
      "metadata": {
        "id": "Lb6ipNFUqFAk"
      },
      "execution_count": 52,
      "outputs": []
    },
    {
      "cell_type": "code",
      "execution_count": 70,
      "metadata": {
        "colab": {
          "base_uri": "https://localhost:8080/"
        },
        "id": "T6YfHVZt750T",
        "outputId": "ea238d97-1e04-4b0c-ed1f-5e7a57ddb3d7"
      },
      "outputs": [
        {
          "output_type": "stream",
          "name": "stdout",
          "text": [
            "Model: \"model_9\"\n",
            "__________________________________________________________________________________________________\n",
            " Layer (type)                Output Shape                 Param #   Connected to                  \n",
            "==================================================================================================\n",
            " user_id (InputLayer)        [(None, 1)]                  0         []                            \n",
            "                                                                                                  \n",
            " parent_asin (InputLayer)    [(None, 1)]                  0         []                            \n",
            "                                                                                                  \n",
            " embedding_2 (Embedding)     (None, 1, 309)               1952839   ['user_id[0][0]']             \n",
            "                                                          83                                      \n",
            "                                                                                                  \n",
            " embedding_3 (Embedding)     (None, 1, 55)                6191130   ['parent_asin[0][0]']         \n",
            "                                                                                                  \n",
            " flatten_2 (Flatten)         (None, 309)                  0         ['embedding_2[0][0]']         \n",
            "                                                                                                  \n",
            " flatten_3 (Flatten)         (None, 55)                   0         ['embedding_3[0][0]']         \n",
            "                                                                                                  \n",
            " concatenate_1 (Concatenate  (None, 364)                  0         ['flatten_2[0][0]',           \n",
            " )                                                                   'flatten_3[0][0]']           \n",
            "                                                                                                  \n",
            " dense_27 (Dense)            (None, 128)                  46720     ['concatenate_1[0][0]']       \n",
            "                                                                                                  \n",
            " dropout_18 (Dropout)        (None, 128)                  0         ['dense_27[0][0]']            \n",
            "                                                                                                  \n",
            " dense_28 (Dense)            (None, 128)                  16512     ['dropout_18[0][0]']          \n",
            "                                                                                                  \n",
            " dropout_19 (Dropout)        (None, 128)                  0         ['dense_28[0][0]']            \n",
            "                                                                                                  \n",
            " dense_29 (Dense)            (None, 1)                    129       ['dropout_19[0][0]']          \n",
            "                                                                                                  \n",
            "==================================================================================================\n",
            "Total params: 201538474 (768.81 MB)\n",
            "Trainable params: 201538474 (768.81 MB)\n",
            "Non-trainable params: 0 (0.00 Byte)\n",
            "__________________________________________________________________________________________________\n"
          ]
        }
      ],
      "source": [
        "# Build MLP model\n",
        "dense_layer = Dense(128, activation='relu')(concatenated_inputs)\n",
        "dense_layer = Dropout(0.3)(dense_layer)\n",
        "dense_layer = Dense(128, activation='relu')(dense_layer)\n",
        "dense_layer = Dropout(0.3)(dense_layer)\n",
        "output_layer = Dense(1)(dense_layer)\n",
        "\n",
        "# Create the model\n",
        "model = Model(inputs=input_layers , outputs=output_layer)\n",
        "model.summary()\n",
        "\n"
      ]
    },
    {
      "cell_type": "code",
      "execution_count": 69,
      "metadata": {
        "colab": {
          "base_uri": "https://localhost:8080/",
          "height": 860
        },
        "id": "nE_VmZ22752A",
        "outputId": "67e7ff32-0bd0-4f79-9ed0-5ba317741bb1"
      },
      "outputs": [
        {
          "output_type": "stream",
          "name": "stdout",
          "text": [
            "Epoch 1/100\n"
          ]
        },
        {
          "output_type": "error",
          "ename": "ResourceExhaustedError",
          "evalue": "in user code:\n\n    File \"/usr/local/lib/python3.10/dist-packages/keras/src/engine/training.py\", line 1401, in train_function  *\n        return step_function(self, iterator)\n    File \"/usr/local/lib/python3.10/dist-packages/keras/src/engine/training.py\", line 1384, in step_function  **\n        outputs = model.distribute_strategy.run(run_step, args=(data,))\n    File \"/usr/local/lib/python3.10/dist-packages/keras/src/engine/training.py\", line 1373, in run_step  **\n        outputs = model.train_step(data)\n    File \"/usr/local/lib/python3.10/dist-packages/keras/src/engine/training.py\", line 1154, in train_step\n        self.optimizer.minimize(loss, self.trainable_variables, tape=tape)\n    File \"/usr/local/lib/python3.10/dist-packages/keras/src/optimizers/optimizer.py\", line 544, in minimize\n        self.apply_gradients(grads_and_vars)\n    File \"/usr/local/lib/python3.10/dist-packages/keras/src/optimizers/optimizer.py\", line 1223, in apply_gradients\n        return super().apply_gradients(grads_and_vars, name=name)\n    File \"/usr/local/lib/python3.10/dist-packages/keras/src/optimizers/optimizer.py\", line 638, in apply_gradients\n        self.build(trainable_variables)\n    File \"/usr/local/lib/python3.10/dist-packages/keras/src/optimizers/adam.py\", line 145, in build\n        self.add_variable_from_reference(\n    File \"/usr/local/lib/python3.10/dist-packages/keras/src/optimizers/optimizer.py\", line 1125, in add_variable_from_reference\n        return super().add_variable_from_reference(\n    File \"/usr/local/lib/python3.10/dist-packages/keras/src/optimizers/optimizer.py\", line 508, in add_variable_from_reference\n        initial_value = tf.zeros(\n    File \"/usr/local/lib/python3.10/dist-packages/tensorflow/dtensor/python/api.py\", line 64, in call_with_layout\n        return fn(*args, **kwargs)\n\n    ResourceExhaustedError: {{function_node __wrapped__Fill_device_/job:localhost/replica:0/task:0/device:GPU:0}} OOM when allocating tensor with shape[631987,309] and type float on /job:localhost/replica:0/task:0/device:GPU:0 by allocator GPU_0_bfc [Op:Fill] name: \n",
          "traceback": [
            "\u001b[0;31m---------------------------------------------------------------------------\u001b[0m",
            "\u001b[0;31mResourceExhaustedError\u001b[0m                    Traceback (most recent call last)",
            "\u001b[0;32m<ipython-input-69-6cfa44b7c457>\u001b[0m in \u001b[0;36m<cell line: 12>\u001b[0;34m()\u001b[0m\n\u001b[1;32m     10\u001b[0m \u001b[0;34m\u001b[0m\u001b[0m\n\u001b[1;32m     11\u001b[0m \u001b[0;31m# Train the model\u001b[0m\u001b[0;34m\u001b[0m\u001b[0;34m\u001b[0m\u001b[0m\n\u001b[0;32m---> 12\u001b[0;31m history = model.fit([X_train[cat].values for cat in all_features] ,\n\u001b[0m\u001b[1;32m     13\u001b[0m           \u001b[0my_train\u001b[0m\u001b[0;34m,\u001b[0m\u001b[0;34m\u001b[0m\u001b[0;34m\u001b[0m\u001b[0m\n\u001b[1;32m     14\u001b[0m           \u001b[0mvalidation_data\u001b[0m\u001b[0;34m=\u001b[0m\u001b[0;34m(\u001b[0m\u001b[0;34m[\u001b[0m\u001b[0mX_test\u001b[0m\u001b[0;34m[\u001b[0m\u001b[0mcat\u001b[0m\u001b[0;34m]\u001b[0m\u001b[0;34m.\u001b[0m\u001b[0mvalues\u001b[0m \u001b[0;32mfor\u001b[0m \u001b[0mcat\u001b[0m \u001b[0;32min\u001b[0m \u001b[0mall_features\u001b[0m\u001b[0;34m]\u001b[0m\u001b[0;34m,\u001b[0m \u001b[0my_test\u001b[0m\u001b[0;34m)\u001b[0m\u001b[0;34m,\u001b[0m\u001b[0;34m\u001b[0m\u001b[0;34m\u001b[0m\u001b[0m\n",
            "\u001b[0;32m/usr/local/lib/python3.10/dist-packages/keras/src/utils/traceback_utils.py\u001b[0m in \u001b[0;36merror_handler\u001b[0;34m(*args, **kwargs)\u001b[0m\n\u001b[1;32m     68\u001b[0m             \u001b[0;31m# To get the full stack trace, call:\u001b[0m\u001b[0;34m\u001b[0m\u001b[0;34m\u001b[0m\u001b[0m\n\u001b[1;32m     69\u001b[0m             \u001b[0;31m# `tf.debugging.disable_traceback_filtering()`\u001b[0m\u001b[0;34m\u001b[0m\u001b[0;34m\u001b[0m\u001b[0m\n\u001b[0;32m---> 70\u001b[0;31m             \u001b[0;32mraise\u001b[0m \u001b[0me\u001b[0m\u001b[0;34m.\u001b[0m\u001b[0mwith_traceback\u001b[0m\u001b[0;34m(\u001b[0m\u001b[0mfiltered_tb\u001b[0m\u001b[0;34m)\u001b[0m \u001b[0;32mfrom\u001b[0m \u001b[0;32mNone\u001b[0m\u001b[0;34m\u001b[0m\u001b[0;34m\u001b[0m\u001b[0m\n\u001b[0m\u001b[1;32m     71\u001b[0m         \u001b[0;32mfinally\u001b[0m\u001b[0;34m:\u001b[0m\u001b[0;34m\u001b[0m\u001b[0;34m\u001b[0m\u001b[0m\n\u001b[1;32m     72\u001b[0m             \u001b[0;32mdel\u001b[0m \u001b[0mfiltered_tb\u001b[0m\u001b[0;34m\u001b[0m\u001b[0;34m\u001b[0m\u001b[0m\n",
            "\u001b[0;32m/usr/local/lib/python3.10/dist-packages/tensorflow/python/eager/polymorphic_function/autograph_util.py\u001b[0m in \u001b[0;36mautograph_handler\u001b[0;34m(*args, **kwargs)\u001b[0m\n\u001b[1;32m     50\u001b[0m     \u001b[0;32mexcept\u001b[0m \u001b[0mException\u001b[0m \u001b[0;32mas\u001b[0m \u001b[0me\u001b[0m\u001b[0;34m:\u001b[0m  \u001b[0;31m# pylint:disable=broad-except\u001b[0m\u001b[0;34m\u001b[0m\u001b[0;34m\u001b[0m\u001b[0m\n\u001b[1;32m     51\u001b[0m       \u001b[0;32mif\u001b[0m \u001b[0mhasattr\u001b[0m\u001b[0;34m(\u001b[0m\u001b[0me\u001b[0m\u001b[0;34m,\u001b[0m \u001b[0;34m\"ag_error_metadata\"\u001b[0m\u001b[0;34m)\u001b[0m\u001b[0;34m:\u001b[0m\u001b[0;34m\u001b[0m\u001b[0;34m\u001b[0m\u001b[0m\n\u001b[0;32m---> 52\u001b[0;31m         \u001b[0;32mraise\u001b[0m \u001b[0me\u001b[0m\u001b[0;34m.\u001b[0m\u001b[0mag_error_metadata\u001b[0m\u001b[0;34m.\u001b[0m\u001b[0mto_exception\u001b[0m\u001b[0;34m(\u001b[0m\u001b[0me\u001b[0m\u001b[0;34m)\u001b[0m\u001b[0;34m\u001b[0m\u001b[0;34m\u001b[0m\u001b[0m\n\u001b[0m\u001b[1;32m     53\u001b[0m       \u001b[0;32melse\u001b[0m\u001b[0;34m:\u001b[0m\u001b[0;34m\u001b[0m\u001b[0;34m\u001b[0m\u001b[0m\n\u001b[1;32m     54\u001b[0m         \u001b[0;32mraise\u001b[0m\u001b[0;34m\u001b[0m\u001b[0;34m\u001b[0m\u001b[0m\n",
            "\u001b[0;31mResourceExhaustedError\u001b[0m: in user code:\n\n    File \"/usr/local/lib/python3.10/dist-packages/keras/src/engine/training.py\", line 1401, in train_function  *\n        return step_function(self, iterator)\n    File \"/usr/local/lib/python3.10/dist-packages/keras/src/engine/training.py\", line 1384, in step_function  **\n        outputs = model.distribute_strategy.run(run_step, args=(data,))\n    File \"/usr/local/lib/python3.10/dist-packages/keras/src/engine/training.py\", line 1373, in run_step  **\n        outputs = model.train_step(data)\n    File \"/usr/local/lib/python3.10/dist-packages/keras/src/engine/training.py\", line 1154, in train_step\n        self.optimizer.minimize(loss, self.trainable_variables, tape=tape)\n    File \"/usr/local/lib/python3.10/dist-packages/keras/src/optimizers/optimizer.py\", line 544, in minimize\n        self.apply_gradients(grads_and_vars)\n    File \"/usr/local/lib/python3.10/dist-packages/keras/src/optimizers/optimizer.py\", line 1223, in apply_gradients\n        return super().apply_gradients(grads_and_vars, name=name)\n    File \"/usr/local/lib/python3.10/dist-packages/keras/src/optimizers/optimizer.py\", line 638, in apply_gradients\n        self.build(trainable_variables)\n    File \"/usr/local/lib/python3.10/dist-packages/keras/src/optimizers/adam.py\", line 145, in build\n        self.add_variable_from_reference(\n    File \"/usr/local/lib/python3.10/dist-packages/keras/src/optimizers/optimizer.py\", line 1125, in add_variable_from_reference\n        return super().add_variable_from_reference(\n    File \"/usr/local/lib/python3.10/dist-packages/keras/src/optimizers/optimizer.py\", line 508, in add_variable_from_reference\n        initial_value = tf.zeros(\n    File \"/usr/local/lib/python3.10/dist-packages/tensorflow/dtensor/python/api.py\", line 64, in call_with_layout\n        return fn(*args, **kwargs)\n\n    ResourceExhaustedError: {{function_node __wrapped__Fill_device_/job:localhost/replica:0/task:0/device:GPU:0}} OOM when allocating tensor with shape[631987,309] and type float on /job:localhost/replica:0/task:0/device:GPU:0 by allocator GPU_0_bfc [Op:Fill] name: \n"
          ]
        }
      ],
      "source": [
        "\n",
        "# Compile the model\n",
        "model.compile(optimizer=Adam(learning_rate=0.001), loss='mse', metrics=['accuracy'])\n",
        "\n",
        "# Set up early stopping\n",
        "es = EarlyStopping(monitor='val_loss',\n",
        "                   mode='min',\n",
        "                   verbose=1,\n",
        "                   patience=2,\n",
        "                   restore_best_weights=True)\n",
        "\n",
        "# Train the model\n",
        "history = model.fit([X_train[cat].values for cat in all_features] ,\n",
        "          y_train,\n",
        "          validation_data=([X_test[cat].values for cat in all_features], y_test),\n",
        "          epochs=100,\n",
        "          batch_size=128,callbacks=[es])"
      ]
    },
    {
      "cell_type": "code",
      "source": [
        "# prompt: predict for 10 rows in X_test\n",
        "\n",
        "predictions = model.predict([X_test[cat].values for cat in all_features])\n",
        "\n",
        "print(predictions[:10])\n"
      ],
      "metadata": {
        "colab": {
          "base_uri": "https://localhost:8080/"
        },
        "id": "O9fQaVoDxKDx",
        "outputId": "792598d8-eb1c-43bf-ede6-7de7fac6649e"
      },
      "execution_count": 25,
      "outputs": [
        {
          "output_type": "stream",
          "name": "stdout",
          "text": [
            "2193/2193 [==============================] - 5s 2ms/step\n",
            "[[5.26747606e-08 2.27931157e-01 8.24532732e-02 9.00309458e-02\n",
            "  9.50279012e-02 5.04556596e-01]\n",
            " [1.47319653e-07 2.05296800e-01 8.46464187e-02 1.00816697e-01\n",
            "  1.16539970e-01 4.92699891e-01]\n",
            " [2.34571361e-19 1.33706816e-02 9.67753679e-03 1.59384739e-02\n",
            "  6.14820756e-02 8.99531186e-01]\n",
            " [7.84372531e-08 2.03086033e-01 8.31154436e-02 9.02381539e-02\n",
            "  1.12511717e-01 5.11048555e-01]\n",
            " [5.62877534e-15 5.34754507e-02 2.66343169e-02 3.59413922e-02\n",
            "  8.40365961e-02 7.99912274e-01]\n",
            " [3.50690743e-06 2.39207491e-01 1.00417607e-01 1.04504794e-01\n",
            "  1.41990691e-01 4.13875937e-01]\n",
            " [8.25197510e-09 9.91539359e-02 5.89881092e-02 9.67371315e-02\n",
            "  2.09231809e-01 5.35889030e-01]\n",
            " [9.71840880e-13 6.41562641e-02 3.78980599e-02 5.01685552e-02\n",
            "  1.06397316e-01 7.41379738e-01]\n",
            " [1.41329979e-08 1.80056751e-01 7.50098526e-02 8.89093429e-02\n",
            "  1.01976320e-01 5.54047763e-01]\n",
            " [1.24813465e-10 1.25693887e-01 5.47065809e-02 6.53673559e-02\n",
            "  8.89517143e-02 6.65280461e-01]]\n"
          ]
        }
      ]
    },
    {
      "cell_type": "code",
      "source": [
        "print(y_test[:10])"
      ],
      "metadata": {
        "colab": {
          "base_uri": "https://localhost:8080/"
        },
        "id": "jP9Eaz6ixmHx",
        "outputId": "2f00f92f-4838-45f5-d840-878ae5e95299"
      },
      "execution_count": 26,
      "outputs": [
        {
          "output_type": "stream",
          "name": "stdout",
          "text": [
            "558261    5\n",
            "533565    4\n",
            "275352    5\n",
            "658564    5\n",
            "48163     5\n",
            "85182     3\n",
            "185354    5\n",
            "177877    4\n",
            "474314    5\n",
            "226539    5\n",
            "Name: rating, dtype: int64\n"
          ]
        }
      ]
    },
    {
      "cell_type": "code",
      "execution_count": null,
      "metadata": {
        "id": "GZIoKjJJErdk"
      },
      "outputs": [],
      "source": [
        "# prompt: print first few values of x_train\n",
        "\n",
        "print(X_train.head())\n"
      ]
    },
    {
      "cell_type": "code",
      "source": [
        "from sklearn.metrics import accuracy_score, precision_score, recall_score, f1_score"
      ],
      "metadata": {
        "id": "Oaz4RB2bSJpZ"
      },
      "execution_count": 27,
      "outputs": []
    },
    {
      "cell_type": "code",
      "source": [
        "# Assuming your validation/test data is stored in X_val and y_val\n",
        "y_pred = model.predict([X_test[cat].values for cat in all_features])\n",
        "y_pred_classes = np.argmax(y_pred, axis=1)\n",
        "y_true = y_test.to_numpy()\n",
        "#y_true = np.argmax(y_test, axis=0)\n",
        "\n"
      ],
      "metadata": {
        "id": "Xv0T6LpmwWwG",
        "colab": {
          "base_uri": "https://localhost:8080/"
        },
        "outputId": "3cb5a4de-76cd-4564-f230-c07a67738a7a"
      },
      "execution_count": 60,
      "outputs": [
        {
          "output_type": "stream",
          "name": "stdout",
          "text": [
            "2193/2193 [==============================] - 4s 2ms/step\n"
          ]
        }
      ]
    },
    {
      "cell_type": "code",
      "source": [
        "print(y_pred[:5])"
      ],
      "metadata": {
        "colab": {
          "base_uri": "https://localhost:8080/"
        },
        "id": "aLgfyWX1a65K",
        "outputId": "fd2175ab-acb6-41dc-903d-f596d18516e4"
      },
      "execution_count": 63,
      "outputs": [
        {
          "output_type": "stream",
          "name": "stdout",
          "text": [
            "[[2.8743045]\n",
            " [3.3117304]\n",
            " [4.5930643]\n",
            " [3.3962812]\n",
            " [4.686592 ]]\n"
          ]
        }
      ]
    },
    {
      "cell_type": "code",
      "source": [
        "# prompt: take ceil values of y_pred\n",
        "\n",
        "y_pred_ceil = np.ceil(y_pred)\n",
        "print(y_pred_ceil[:5])\n"
      ],
      "metadata": {
        "colab": {
          "base_uri": "https://localhost:8080/"
        },
        "id": "xySETiC_fmmd",
        "outputId": "624c69db-1ba7-49fb-b38c-845070184619"
      },
      "execution_count": 64,
      "outputs": [
        {
          "output_type": "stream",
          "name": "stdout",
          "text": [
            "[[3.]\n",
            " [4.]\n",
            " [5.]\n",
            " [4.]\n",
            " [5.]]\n"
          ]
        }
      ]
    },
    {
      "cell_type": "code",
      "execution_count": 65,
      "metadata": {
        "id": "aanihcNV753c",
        "colab": {
          "base_uri": "https://localhost:8080/"
        },
        "outputId": "8f88706e-8f23-4df4-bc1e-28c7b571a52a"
      },
      "outputs": [
        {
          "output_type": "stream",
          "name": "stdout",
          "text": [
            "Accuracy: 0.41867061993072285\n",
            "Precision: 0.4528781672255683\n",
            "Recall: 0.41867061993072285\n",
            "F1 Score: 0.423768387676994\n"
          ]
        },
        {
          "output_type": "stream",
          "name": "stderr",
          "text": [
            "/usr/local/lib/python3.10/dist-packages/sklearn/metrics/_classification.py:1344: UndefinedMetricWarning: Precision is ill-defined and being set to 0.0 in labels with no predicted samples. Use `zero_division` parameter to control this behavior.\n",
            "  _warn_prf(average, modifier, msg_start, len(result))\n",
            "/usr/local/lib/python3.10/dist-packages/sklearn/metrics/_classification.py:1344: UndefinedMetricWarning: Recall is ill-defined and being set to 0.0 in labels with no true samples. Use `zero_division` parameter to control this behavior.\n",
            "  _warn_prf(average, modifier, msg_start, len(result))\n"
          ]
        }
      ],
      "source": [
        "\n",
        "accuracy = accuracy_score(y_true, y_pred_ceil)\n",
        "precision = precision_score(y_true, y_pred_ceil, average='weighted')\n",
        "recall = recall_score(y_true, y_pred_ceil, average='weighted')\n",
        "f1 = f1_score(y_true, y_pred_ceil, average='weighted')\n",
        "#auc = roc_auc_score(y_true,y_pred_classes, multi_class=\"ovo\")\n",
        "\n",
        "print(\"Accuracy:\", accuracy)\n",
        "print(\"Precision:\", precision)\n",
        "print(\"Recall:\", recall)\n",
        "print(\"F1 Score:\", f1)\n",
        "#print(\"auc Score:\", auc)"
      ]
    },
    {
      "cell_type": "code",
      "execution_count": null,
      "metadata": {
        "id": "yO90A-Z7756R"
      },
      "outputs": [],
      "source": []
    }
  ],
  "metadata": {
    "colab": {
      "provenance": [],
      "gpuType": "T4"
    },
    "kernelspec": {
      "display_name": "Python 3",
      "name": "python3"
    },
    "language_info": {
      "name": "python"
    },
    "accelerator": "GPU"
  },
  "nbformat": 4,
  "nbformat_minor": 0
}